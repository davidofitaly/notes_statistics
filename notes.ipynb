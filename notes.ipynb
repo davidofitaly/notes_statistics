{
  "nbformat": 4,
  "nbformat_minor": 0,
  "metadata": {
    "colab": {
      "provenance": [],
      "authorship_tag": "ABX9TyNuaYgYWn3AcSz1eC3EBkYi",
      "include_colab_link": true
    },
    "kernelspec": {
      "name": "python3",
      "display_name": "Python 3"
    },
    "language_info": {
      "name": "python"
    }
  },
  "cells": [
    {
      "cell_type": "markdown",
      "metadata": {
        "id": "view-in-github",
        "colab_type": "text"
      },
      "source": [
        "<a href=\"https://colab.research.google.com/github/davidofitaly/notes_statistics/blob/main/notes.ipynb\" target=\"_parent\"><img src=\"https://colab.research.google.com/assets/colab-badge.svg\" alt=\"Open In Colab\"/></a>"
      ]
    },
    {
      "cell_type": "markdown",
      "source": [
        "#1. ***MIARY TENDENCJI CENTRALNEJ***"
      ],
      "metadata": {
        "id": "xjJHqnJXhlPm"
      }
    },
    {
      "cell_type": "markdown",
      "source": [
        "# ***ARITHMETIC MEAN***"
      ],
      "metadata": {
        "id": "8QY3fbjjUuRS"
      }
    },
    {
      "cell_type": "markdown",
      "source": [
        "Średnia arytmetyczna to jedna z podstawowych miar tendencji centralnej w statystyce, która oblicza się poprzez zsumowanie wszystkich wartości w zestawie danych i podzielenie przez liczbę elementów w tym zestawie. Powszechnie jest używana do określenia \"typowej\" wartości w zbiorze danych. Oto kilka kluczowych punktów dotyczących średniej arytmetycznej:\n",
        "\n",
        "1. **Obliczanie średniej arytmetycznej**:\n",
        "   \n",
        "   #### </a>\n",
        "#### $$\\bar{x} = \\frac{\\sum_{i=1}^{n} x_i}{n}$$\n",
        "\n",
        "\n",
        "2. **Interpretacja**:\n",
        "   Średnia arytmetyczna reprezentuje \"przeciętną\" wartość w zbiorze danych. Jest to suma wszystkich wartości podzielona przez liczbę elementów w zestawie.\n",
        "\n",
        "3. **Tendencja centralna**:\n",
        "   Średnia arytmetyczna jest jedną z miar tendencji centralnej, co oznacza, że daje ogólny pomysł na to, gdzie znajduje się \"środek\" zbioru danych.\n",
        "\n",
        "4. **Czułość na wartości skrajne**:\n",
        "   Średnia arytmetyczna może być podatna na wartości skrajne (outliers), które mogą znacznie wpłynąć na jej wartość, szczególnie w przypadku małych zestawów danych.\n",
        "\n",
        "5. **Zastosowania**:\n",
        "   - W analizie danych, aby zrozumieć typowe lub przeciętne wartości w zbiorze danych.\n",
        "   - W badaniach społecznych, np. do obliczania przeciętnego wieku, dochodu czy ocen.\n",
        "   - W ekonomii, do obliczania średnich cen, płac itp.\n",
        "   - W naukach przyrodniczych, np. do obliczania średniej temperatury, opadów itp.\n",
        "\n",
        "6. **Średnia ważona**:\n",
        "   Istnieje również pojęcie średniej ważonej, w której różnym wartościom przypisywane są różne wagi. Na przykład, gdy analizujemy oceny, możemy przypisać większą wagę ocenom z egzaminów końcowych niż ocenom z zadań domowych.\n",
        "\n",
        "Średnia arytmetyczna jest jednym z najbardziej podstawowych i powszechnie stosowanych pojęć w statystyce i analizie danych. Pomaga ona w szybkim zrozumieniu ogólnej tendencji danych, ale należy pamiętać, że może nie zawsze być najlepszą miarą w przypadku danych skupionych wokół wartości skrajnych."
      ],
      "metadata": {
        "id": "aXkDoWoQCpwb"
      }
    },
    {
      "cell_type": "code",
      "source": [
        "numbers = [0,1,2,3,4,5,6,7,8,9,10]\n",
        "length = len(numbers)\n",
        "\n",
        "arithmetic_mean = sum(numbers) / length\n",
        "arithmetic_mean"
      ],
      "metadata": {
        "id": "kh-vp-vII6oP",
        "colab": {
          "base_uri": "https://localhost:8080/"
        },
        "outputId": "148f9287-8a02-4825-aa18-2746679e0f78"
      },
      "execution_count": 3,
      "outputs": [
        {
          "output_type": "execute_result",
          "data": {
            "text/plain": [
              "5.0"
            ]
          },
          "metadata": {},
          "execution_count": 3
        }
      ]
    },
    {
      "cell_type": "markdown",
      "source": [
        "# ***MEDIAN***"
      ],
      "metadata": {
        "id": "G3nUkUvxXxa6"
      }
    },
    {
      "cell_type": "markdown",
      "source": [
        "\n",
        "\n",
        "Mediana to jedna z podstawowych miar tendencji centralnej w statystyce, która określa środkową wartość w zbiorze danych uporządkowanych rosnąco lub malejąco. Jest to wartość, która dzieli zbiór na dwie równe części, gdzie połowa danych jest mniejsza lub równa medianie, a druga połowa jest większa lub równa medianie. Mediana jest mniej podatna na skrajne wartości (outliery) niż średnia arytmetyczna. Oto kilka kluczowych punktów dotyczących mediany:\n",
        "\n",
        "##Obliczanie mediany\n",
        "\n",
        "1. **Zbiór z nieparzystą liczbą obserwacji:**\n",
        "\n",
        "    1. Weźmy zbiór danych: 3, 1, 4, 1, 5\n",
        "    2. Uporządkuj dane rosnąco: 1, 1, 3, 4, 5\n",
        "    3. Znajdź środkową wartość: **3**\n",
        "\n",
        "2. **Zbiór z parzystą liczbą obserwacji:**\n",
        "\n",
        "    1. Weźmy zbiór danych: 3, 1, 4, 1, 5, 9\n",
        "    2. Uporządkuj dane rosnąco: 1, 1, 3, 4, 5, 9\n",
        "    3. Znajdź dwie środkowe wartości: **3** i **4**\n",
        "    4. Oblicz średnią arytmetyczną tych dwóch wartości: (3 + 4) / 2 = **3.5**\n",
        "\n",
        "3. **Interpretacja**\n",
        "\n",
        "    - Mediana reprezentuje środkową wartość w uporządkowanym zbiorze danych.\n",
        "    - Jest to wartość, która dzieli zbiór na dwie równe części.\n",
        "\n",
        "4. **Tendencja centralna**\n",
        "\n",
        "    Mediana jest jedną z miar tendencji centralnej, co oznacza, że wskazuje, gdzie znajduje się \"środek\" zbioru danych.\n",
        "\n",
        "5. **Odporność na wartości skrajne**\n",
        "\n",
        "    Mediana jest mniej podatna na wartości skrajne (outliers) niż średnia arytmetyczna, co czyni ją bardziej odporną na zakłócenia w przypadku danych z dużymi odchyleniami.\n",
        "\n",
        "6. **Zastosowania**\n",
        "\n",
        "    - **W analizie danych**, aby zrozumieć centralną tendencję w zbiorze danych, zwłaszcza gdy dane są asymetryczne lub zawierają outliery.\n",
        "    - **W badaniach społecznych**, np. do określania mediany dochodów, wieku, czy ocen.\n",
        "    - **W ekonomii**, do obliczania mediany cen, płac, itp.\n",
        "    - **W naukach przyrodniczych**, np. do obliczania mediany temperatur, opadów, itp.\n",
        "\n",
        "    Mediana jest ważnym narzędziem statystycznym, szczególnie użytecznym, gdy mamy do czynienia z danymi, które mogą zawierać wartości skrajne, ponieważ daje bardziej reprezentatywny obraz \"typowej\" wartości w zbiorze danych w porównaniu do średniej arytmetycznej."
      ],
      "metadata": {
        "id": "oMQNUmqDXvHp"
      }
    },
    {
      "cell_type": "markdown",
      "source": [
        "# ***MODE***"
      ],
      "metadata": {
        "id": "S3sQvBrNcMiE"
      }
    },
    {
      "cell_type": "markdown",
      "source": [
        "Modus (mode) to jedna z podstawowych miar tendencji centralnej w statystyce, która określa najczęściej występującą wartość w zbiorze danych. Oto kilka kluczowych punktów dotyczących modusu:\n",
        "\n",
        "1. **Definicja i obliczanie modusu**:\n",
        "   Modus to wartość, która pojawia się najczęściej w zestawie danych. W przypadku danych jakościowych (kategorycznych) jest to najczęstsza kategoria, natomiast w przypadku danych liczbowych jest to liczba o najwyższej częstotliwości.\n",
        "\n",
        "2. **Interpretacja**:\n",
        "   Modus reprezentuje \"najbardziej typową\" wartość w zestawie danych, ponieważ jest to wartość najczęściej się pojawiająca.\n",
        "\n",
        "3. **Tendencja centralna**:\n",
        "   Modus jest jedną z miar tendencji centralnej, co oznacza, że wskazuje, jaka wartość dominuje w zestawie danych.\n",
        "\n",
        "4. **Odporność na wartości skrajne**:\n",
        "   Modus nie jest wpływany przez wartości skrajne (outliers), co czyni go bardziej reprezentatywnym dla centralnej tendencji w danych z wartościami skrajnymi.\n",
        "\n",
        "5. **Zastosowania**:\n",
        "   - **W badaniach rynkowych**: Do określania najpopularniejszego produktu lub usługi.\n",
        "   - **W analizie wyników testów**: Do identyfikacji najczęściej uzyskiwanej oceny.\n",
        "   - **W demografii**: Do wskazywania najczęściej występującej grupy wiekowej w populacji.\n",
        "   - **W psychologii**: Do analizowania najczęstszych odpowiedzi w ankietach.\n",
        "\n",
        "6. **Zalety**:\n",
        "   - **Prostota**: Łatwy do obliczenia i zrozumienia, szczególnie dla danych kategorycznych.\n",
        "   - **Odporność na wartości skrajne**: Modus nie jest wpływany przez wartości skrajne, co czyni go bardziej reprezentatywnym w takich przypadkach.\n",
        "\n",
        "7. **Wady**:\n",
        "   - **Brak unikalności**: Zbiór danych może mieć więcej niż jeden modus (dane mogą być wielomodalne), co może utrudniać interpretację.\n",
        "   - **Nie zawsze istnieje**: W niektórych przypadkach, szczególnie przy danych ciągłych, modus może nie istnieć.\n",
        "\n",
        "8. **Modus a inne miary tendencji centralnej**:\n",
        "   - **Średnia arytmetyczna**: Jest sumą wszystkich wartości podzieloną przez liczbę elementów, podatna na wartości skrajne.\n",
        "   - **Mediana**: Środkowa wartość w uporządkowanym zestawie danych, mniej podatna na wartości skrajne w porównaniu ze średnią.\n",
        "   - **Modus**: Najczęściej występująca wartość, odporny na wartości skrajne i często stosowany w analizie danych kategorycznych.\n",
        "\n",
        "9. **Przykład**:\n",
        "   Jeśli mamy zestaw danych: 2, 3, 3, 5, 7, 10, to modus wynosi 3, ponieważ jest to wartość, która występuje najczęściej.\n",
        "\n",
        "Modus jest jedną z kluczowych pojęć w statystyce, pozwalającą na identyfikację najbardziej typowych wartości w zestawie danych. Dzięki swojej prostocie i odporności na wartości skrajne, jest użyteczny w wielu dziedzinach badawczych i analitycznych."
      ],
      "metadata": {
        "id": "V-iguc3VcIs6"
      }
    },
    {
      "cell_type": "markdown",
      "source": [
        "#2. ***MIARY ROZPROSZENIA***"
      ],
      "metadata": {
        "id": "rCu0Jrv3hpJ8"
      }
    },
    {
      "cell_type": "markdown",
      "source": [
        "# ***STANDARD DEVIATION***"
      ],
      "metadata": {
        "id": "kbYYVUqudgjB"
      }
    },
    {
      "cell_type": "markdown",
      "source": [
        "Odchylenie standardowe (standard deviation) to miara statystyczna, która wskazuje, jak bardzo wartości w zbiorze danych różnią się od średniej arytmetycznej. Oto kilka kluczowych punktów dotyczących odchylenia standardowego:\n",
        "\n",
        "1. **Obliczanie odchylenia standardowego**:\n",
        "\n",
        "   Odchylenie standardowe oblicza się w kilku krokach:\n",
        "   \n",
        "   - Oblicz średnią arytmetyczną zbioru danych.\n",
        "   - Odejmij średnią od każdej wartości, a następnie podnieś wynik do kwadratu.\n",
        "   - Zsumuj wszystkie otrzymane wartości.\n",
        "   - Podziel sumę przez liczbę elementów (dla populacji) lub przez liczbę elementów minus jeden (dla próby).\n",
        "   - Weź pierwiastek kwadratowy z otrzymanej wartości.\n",
        "\n",
        "   Matematycznie, odchylenie standardowe (dla populacji) jest obliczane według wzoru:\n",
        "\n",
        "   #### </a>\n",
        "   #### $$\\sigma = \\sqrt{\\frac{\\sum_{i=1}^{n} (x_i - \\bar{x})^2}{n}}$$\n",
        "\n",
        "   A dla próby:\n",
        "\n",
        "   #### </a>\n",
        "   #### $$s = \\sqrt{\\frac{\\sum_{i=1}^{n} (x_i - \\bar{x})^2}{n - 1}}$$\n",
        "\n",
        "2. **Interpretacja**:\n",
        "   Odchylenie standardowe mierzy rozproszenie wartości w zbiorze danych w stosunku do średniej. Niskie odchylenie standardowe wskazuje, że wartości są blisko średniej, podczas gdy wysokie odchylenie standardowe oznacza, że wartości są bardziej rozproszone.\n",
        "\n",
        "3. **Zastosowania**:\n",
        "   - **W analizie danych**: Do oceny zmienności i rozproszenia danych.\n",
        "   - **W finansach**: Do oceny ryzyka i zmienności cen akcji.\n",
        "   - **W naukach przyrodniczych**: Do analizy zmienności w danych eksperymentalnych.\n",
        "   - **W zarządzaniu jakością**: Do oceny odchyleń w procesach produkcyjnych.\n",
        "\n",
        "4. **Odchylenie standardowe a inne miary zmienności**:\n",
        "   - **Wariancja**: Jest kwadratem odchylenia standardowego i również mierzy rozproszenie danych, ale w jednostkach kwadratowych.\n",
        "   - **Rozstęp**: Różnica między maksymalną a minimalną wartością w zbiorze danych.\n",
        "   - **Średnie odchylenie bezwzględne**: Średnia wartość bezwzględnych różnic między wartościami a średnią.\n",
        "\n",
        "5. **Zalety**:\n",
        "   - **Precyzja**: Dostarcza dokładnej miary rozproszenia wartości w zbiorze danych.\n",
        "   - **Powszechność**: Jest szeroko stosowana w różnych dziedzinach nauki i biznesu.\n",
        "\n",
        "6. **Wady**:\n",
        "   - **Czułość na wartości skrajne**: Odchylenie standardowe może być znacząco wpływane przez wartości skrajne.\n",
        "   - **Kompleksowość**: Obliczanie odchylenia standardowego może być bardziej skomplikowane w porównaniu do innych miar zmienności.\n",
        "\n",
        "7. **Przykład**:\n",
        "   Jeśli mamy zestaw danych: 2, 4, 4, 4, 5, 5, 7, 9, to średnia arytmetyczna wynosi 5. Odchylenie standardowe oblicza się, stosując powyższe kroki i wynosi około 2.\n",
        "\n",
        "Odchylenie standardowe jest kluczową miarą zmienności w statystyce, która pozwala na ocenę, jak bardzo wartości w zbiorze danych różnią się od średniej. Dzięki swojej precyzji i powszechności jest niezastąpionym narzędziem w wielu dziedzinach analizy danych."
      ],
      "metadata": {
        "id": "WArd3woLdjzy"
      }
    },
    {
      "cell_type": "code",
      "source": [
        "import math\n",
        "\n",
        "# Funkcja do obliczania średniej arytmetycznej\n",
        "def mean(data):\n",
        "    return sum(data) / len(data)\n",
        "\n",
        "# Funkcja do obliczania odchylenia standardowego\n",
        "def standard_deviation(data):\n",
        "    # Oblicz średnią arytmetyczną\n",
        "    m = mean(data)\n",
        "\n",
        "    # Oblicz sumę kwadratów różnic między wartościami a średnią\n",
        "    variance = sum((x - m) ** 2 for x in data) / len(data)\n",
        "\n",
        "    # Zwróć pierwiastek kwadratowy z wariancji\n",
        "    return math.sqrt(variance)\n",
        "\n",
        "# Przykładowy zbiór danych\n",
        "data = [2, 4, 4, 4, 5, 5, 7, 9, 100]\n",
        "\n",
        "# Obliczanie odchylenia standardowego\n",
        "std_dev = standard_deviation(data)\n",
        "\n",
        "# Wyświetlanie wyniku\n",
        "print(f\"Średnia arytmetyczna: {mean(data):.2f}\")\n",
        "print(f\"Odchylenie standardowe: {std_dev:.2f}\")"
      ],
      "metadata": {
        "colab": {
          "base_uri": "https://localhost:8080/"
        },
        "id": "xoI9ma45ePEe",
        "outputId": "6add44a1-5247-4244-8b41-bad1fe329633"
      },
      "execution_count": null,
      "outputs": [
        {
          "output_type": "stream",
          "name": "stdout",
          "text": [
            "Średnia arytmetyczna: 15.56\n",
            "Odchylenie standardowe: 29.92\n"
          ]
        }
      ]
    },
    {
      "cell_type": "markdown",
      "source": [
        "# ***VARIANCE***"
      ],
      "metadata": {
        "id": "h2Orwmyxi07n"
      }
    },
    {
      "cell_type": "markdown",
      "source": [
        "Wariancja to miara rozproszenia danych wokół średniej arytmetycznej. Obejmuje różnice między każdą wartością w zbiorze danych a średnią arytmetyczną, kwadratuje je i oblicza ich średnią. Im większa wartość wariancji, tym większa rozproszenie danych wokół średniej arytmetycznej. Poniżej przedstawiam kluczowe punkty dotyczące wariancji:\n",
        "\n",
        "1. **Obliczanie wariancji**:\n",
        "   \n",
        "   Wariancję oblicza się poprzez zsumowanie kwadratów różnic między każdą wartością w zbiorze danych a średnią arytmetyczną, a następnie podzielenie przez liczbę elementów w zbiorze.\n",
        "\n",
        "   $$\\sigma^2 = \\frac{\\sum_{i=1}^{n} (x_i - \\bar{x})^2}{n}$$\n",
        "\n",
        "2. **Interpretacja**:\n",
        "   Wariancja reprezentuje średnią kwadratową odległości między każdą wartością w zbiorze danych a średnią arytmetyczną. Im większa wartość wariancji, tym większe rozproszenie danych.\n",
        "\n",
        "3. **Rozproszenie danych**:\n",
        "   Wariancja daje ogólny pomysł na to, jak bardzo dane są rozproszone wokół średniej arytmetycznej. Im większa wariancja, tym większa zmienność danych.\n",
        "\n",
        "4. **Jednostka miary**:\n",
        "   Wariancja jest wyrażona w kwadracie jednostki oryginalnych danych. Na przykład, jeśli dane reprezentują długość w metrach, wariancja będzie wyrażona w metrach kwadratowych.\n",
        "\n",
        "5. **Korzystanie z wariancji**:\n",
        "   - W analizie danych, aby zrozumieć stopień rozproszenia danych wokół średniej arytmetycznej.\n",
        "   - W statystycznych testach, np. analizie wariancji (ANOVA), gdzie wariancja jest używana do porównywania różnic między grupami.\n",
        "\n",
        "6. **Odchylenie standardowe**:\n",
        "   Odchylenie standardowe jest pierwiastkiem kwadratowym z wariancji i jest często używane do wyrażenia rozproszenia danych w jednostkach oryginalnych danych.\n",
        "\n",
        "W Pythonie możemy obliczyć wariancję przy użyciu wbudowanej funkcji `var()` z modułu `statistics` lub `numpy`. Na przykład:\n"
      ],
      "metadata": {
        "id": "DGbpydyqi_FZ"
      }
    },
    {
      "cell_type": "code",
      "source": [
        "import statistics\n",
        "\n",
        "data = [2, 4, 4, 4, 5, 5, 7, 9]\n",
        "variance = statistics.variance(data)\n",
        "print(f\"Wariancja: {variance:.2f}\")\n"
      ],
      "metadata": {
        "colab": {
          "base_uri": "https://localhost:8080/"
        },
        "id": "S-NAXI9Ti62w",
        "outputId": "64649424-562e-4f1c-a282-2268564c706c"
      },
      "execution_count": null,
      "outputs": [
        {
          "output_type": "stream",
          "name": "stdout",
          "text": [
            "Wariancja: 4.57\n"
          ]
        }
      ]
    },
    {
      "cell_type": "markdown",
      "source": [
        "# ***RANGE***"
      ],
      "metadata": {
        "id": "LVR_ngxAkwtg"
      }
    },
    {
      "cell_type": "markdown",
      "source": [
        "Rozstęp to prosta miara rozproszenia danych, która określa różnicę między największą a najmniejszą wartością w zbiorze danych. Jest to szybka i łatwa do zrozumienia miara, która daje ogólny pomysł na zakres wartości w zbiorze danych. Oto kilka kluczowych punktów dotyczących rozstępu jako miary rozproszenia:\n",
        "\n",
        "1. **Obliczanie rozstępu**:\n",
        "   \n",
        "   Rozstęp oblicza się poprzez znalezienie różnicy między największą a najmniejszą wartością w zbiorze danych.\n",
        "\n",
        "   $$\\text{Rozstęp} = \\text{Największa wartość} - \\text{Najmniejsza wartość}$$\n",
        "\n",
        "2. **Interpretacja**:\n",
        "   Rozstęp informuje nas o szerokości zakresu wartości w zbiorze danych. Im większy rozstęp, tym większa zmienność danych.\n",
        "\n",
        "3. **Prostota**:\n",
        "   Rozstęp jest bardzo prostą miarą, łatwą do zrozumienia i obliczenia. W przeciwieństwie do bardziej złożonych miar rozproszenia, takich jak wariancja czy odchylenie standardowe, rozstęp wymaga tylko dwóch wartości - największej i najmniejszej w zbiorze danych.\n",
        "\n",
        "4. **Czułość na wartości skrajne**:\n",
        "   Podobnie jak w przypadku średniej arytmetycznej, rozstęp może być podatny na wartości skrajne (outliers), które mogą znacząco wpłynąć na jego wartość.\n",
        "\n",
        "5. **Ograniczenia**:\n",
        "   Pomimo swojej prostoty, rozstęp może być niewrażliwy na ogromne zmiany w wielkościach danych i nie uwzględnia wszystkich wartości między największą a najmniejszą. Dlatego w niektórych przypadkach bardziej zaawansowane miary rozproszenia, takie jak wariancja czy odchylenie standardowe, mogą być bardziej odpowiednie.\n",
        "\n",
        "W Pythonie możemy obliczyć rozstęp przy użyciu wbudowanej funkcji `ptp()` (peak-to-peak) z modułu `numpy`. Na przykład:\n"
      ],
      "metadata": {
        "id": "rrmpsFZQk2A0"
      }
    },
    {
      "cell_type": "code",
      "source": [
        "import numpy as np\n",
        "\n",
        "data = [2, 4, 4, 4, 5, 5, 7, 9]\n",
        "range_of_data = np.ptp(data)\n",
        "print(f\"Rozstęp: {range_of_data}\")\n"
      ],
      "metadata": {
        "colab": {
          "base_uri": "https://localhost:8080/"
        },
        "id": "gxrKyN8rk8Ua",
        "outputId": "a1a43c2c-a342-4454-9ff2-de2b57d769e9"
      },
      "execution_count": null,
      "outputs": [
        {
          "output_type": "stream",
          "name": "stdout",
          "text": [
            "Rozstęp: 7\n"
          ]
        }
      ]
    },
    {
      "cell_type": "markdown",
      "source": [
        "#3. ***MIARY KSZTAŁTU ROZKŁADU***"
      ],
      "metadata": {
        "id": "_YYJ1G2XmvW6"
      }
    },
    {
      "cell_type": "markdown",
      "source": [
        "# ***SKEWNESS***"
      ],
      "metadata": {
        "id": "r5v-H7ZAm3f4"
      }
    },
    {
      "cell_type": "markdown",
      "source": [
        "Skośność (skewness) to miara asymetrii rozkładu danych. Oznacza to, że mierzy, jak bardzo rozkład danych jest asymetryczny wokół średniej. Rozkład danych może być symetryczny, gdzie wartości są równomiernie rozłożone wokół średniej, lub może być asymetryczny, gdzie większość wartości koncentruje się w jednym kierunku, powodując przesunięcie w lewo lub w prawo względem średniej.\n",
        "\n",
        "Oto kilka kluczowych punktów dotyczących skośności jako miary asymetrii rozkładu:\n",
        "\n",
        "1. **Obliczanie skośności**:\n",
        "   \n",
        "   Skośność jest obliczana za pomocą różnych metod, ale najczęściej stosowaną metodą jest metoda trzeciego momentu. Skośność jest definiowana jako trzeci moment statystyczny, czyli moment centralny trzeciego stopnia. W bardziej prostych przypadkach, można obliczyć skośność przy użyciu bibliotek statystycznych w różnych językach programowania.\n",
        "\n",
        "2. **Interpretacja**:\n",
        "   - Skośność dodatnia oznacza, że dane są przesunięte w prawo względem średniej, co oznacza, że większość wartości znajduje się po lewej stronie średniej, a ogon rozkładu jest dłuższy w prawo.\n",
        "   - Skośność ujemna oznacza, że dane są przesunięte w lewo względem średniej, co oznacza, że większość wartości znajduje się po prawej stronie średniej, a ogon rozkładu jest dłuższy w lewo.\n",
        "   - Skośność równa zero oznacza, że rozkład danych jest symetryczny.\n",
        "\n",
        "3. **Zastosowania**:\n",
        "   Skośność jest używana w analizie danych, szczególnie w finansach, ekonomii, biologii, naukach społecznych i innych dziedzinach, aby zrozumieć, jak dane są rozłożone wokół swojej średniej wartości.\n",
        "\n",
        "4. **Ograniczenia**:\n",
        "   Skośność może być wrażliwa na wartości odstające (outliers) w danych, które mogą znacząco wpłynąć na wynik skośności. Dodatkowo, skośność jest oparta na momencie trzeciego stopnia, co oznacza, że może być wrażliwa na duże zmiany w danych.\n",
        "\n",
        "Podobnie jak w przypadku średniej arytmetycznej, skośność jest jednym z podstawowych pojęć w analizie danych i statystyce, które pomaga w zrozumieniu kształtu rozkładu danych i ich asymetrii."
      ],
      "metadata": {
        "id": "sKSCUs7jnHhp"
      }
    },
    {
      "cell_type": "code",
      "source": [
        "import matplotlib.pyplot as plt\n",
        "import numpy as np\n",
        "from scipy.stats import skew\n",
        "\n",
        "# Przykładowe dane\n",
        "data = [1, 2, 2, 3, 4, 4, 4, 5, 5, 5, 5]\n",
        "\n",
        "# Obliczenie skośności\n",
        "skewness = skew(data)\n",
        "print(f\"Skośność danych: {skewness}\")\n",
        "\n",
        "# Tworzenie histogramu\n",
        "plt.hist(data, bins=range(min(data), max(data)+1), color='skyblue', edgecolor='black', alpha=0.7)\n",
        "\n",
        "# Dodanie linii wskazującej średnią\n",
        "plt.axvline(np.mean(data), color='red', linestyle='dashed', linewidth=1)\n",
        "\n",
        "# Dodanie opisu\n",
        "plt.title('Histogram danych - Skośność: ' + str(skewness))\n",
        "plt.xlabel('Wartość')\n",
        "plt.ylabel('Częstość')\n",
        "\n",
        "# Wyświetlenie wykresu\n",
        "plt.show()\n"
      ],
      "metadata": {
        "colab": {
          "base_uri": "https://localhost:8080/",
          "height": 490
        },
        "id": "xbdBTZI7nG1Z",
        "outputId": "e4c4bdc4-6871-4c6d-8de3-ad62a6a2ee58"
      },
      "execution_count": null,
      "outputs": [
        {
          "output_type": "stream",
          "name": "stdout",
          "text": [
            "Skośność danych: -0.6075010518631389\n"
          ]
        },
        {
          "output_type": "display_data",
          "data": {
            "text/plain": [
              "<Figure size 640x480 with 1 Axes>"
            ],
            "image/png": "[encoded data removed]"
          },
          "metadata": {}
        }
      ]
    },
    {
      "cell_type": "code",
      "source": [
        "import matplotlib.pyplot as plt\n",
        "import numpy as np\n",
        "from scipy.stats import skew\n",
        "\n",
        "# Przykładowe dane z dodatnią skośnością\n",
        "data_positive_skew = [1, 2, 3, 3, 4, 5, 5, 5, 6, 7, 8, 8, 8, 8, 9, 10, 12]\n",
        "\n",
        "# Obliczenie skośności dla danych z dodatnią skośnością\n",
        "skewness_positive = skew(data_positive_skew)\n",
        "print(f\"Skośność danych z dodatnią skośnością: {skewness_positive}\")\n",
        "\n",
        "# Tworzenie histogramu dla danych z dodatnią skośnością\n",
        "plt.hist(data_positive_skew, bins=range(min(data_positive_skew), max(data_positive_skew)+1), color='skyblue', edgecolor='black', alpha=0.7)\n",
        "plt.axvline(np.mean(data_positive_skew), color='red', linestyle='dashed', linewidth=1)\n",
        "plt.title('Histogram - Skośność dodatnia: ' + str(skewness_positive))\n",
        "plt.xlabel('Wartość')\n",
        "plt.ylabel('Częstość')\n",
        "plt.show()\n"
      ],
      "metadata": {
        "colab": {
          "base_uri": "https://localhost:8080/",
          "height": 490
        },
        "id": "eDpQ-1x9pcWw",
        "outputId": "7f7055d7-e40f-432a-c5da-6ee5da12b7c7"
      },
      "execution_count": null,
      "outputs": [
        {
          "output_type": "stream",
          "name": "stdout",
          "text": [
            "Skośność danych z dodatnią skośnością: 0.08427160984397312\n"
          ]
        },
        {
          "output_type": "display_data",
          "data": {
            "text/plain": [
              "<Figure size 640x480 with 1 Axes>"
            ],
            "image/png": "[encoded data removed]"
          },
          "metadata": {}
        }
      ]
    },
    {
      "cell_type": "code",
      "source": [
        "import matplotlib.pyplot as plt\n",
        "import numpy as np\n",
        "from scipy.stats import skew\n",
        "\n",
        "# Przykładowe dane z zerową skośnością\n",
        "data_zero_skew = [1, 2, 3, 4, 5, 6, 7, 8, 9, 10]\n",
        "\n",
        "# Obliczenie skośności dla danych z zerową skośnością\n",
        "skewness_zero = skew(data_zero_skew)\n",
        "print(f\"Skośność danych z zerową skośnością: {skewness_zero}\")\n",
        "\n",
        "# Tworzenie histogramu dla danych z zerową skośnością\n",
        "plt.hist(data_zero_skew, bins=range(min(data_zero_skew), max(data_zero_skew)+1), color='lightgreen', edgecolor='black', alpha=0.7)\n",
        "plt.axvline(np.mean(data_zero_skew), color='red', linestyle='dashed', linewidth=1)\n",
        "plt.title('Histogram - Skośność zero: ' + str(skewness_zero))\n",
        "plt.xlabel('Wartość')\n",
        "plt.ylabel('Częstość')\n",
        "plt.show()\n"
      ],
      "metadata": {
        "colab": {
          "base_uri": "https://localhost:8080/",
          "height": 490
        },
        "id": "qCuJCa0xpd7q",
        "outputId": "bcef87be-8a75-48a3-edbb-a89fc9ced7f7"
      },
      "execution_count": null,
      "outputs": [
        {
          "output_type": "stream",
          "name": "stdout",
          "text": [
            "Skośność danych z zerową skośnością: 0.0\n"
          ]
        },
        {
          "output_type": "display_data",
          "data": {
            "text/plain": [
              "<Figure size 640x480 with 1 Axes>"
            ],
            "image/png": "[encoded data removed]"
          },
          "metadata": {}
        }
      ]
    },
    {
      "cell_type": "markdown",
      "source": [
        "# ***KURTOSIS***"
      ],
      "metadata": {
        "id": "tohK0zjjq8VN"
      }
    },
    {
      "cell_type": "markdown",
      "source": [
        "Kurtoza (kurtosis) to miara, która opisuje, jak bardzo dane są skupione wokół środka rozkładu, w porównaniu do rozkładu normalnego. Oznacza to, że kurtoza mierzy, czy ogon rozkładu danych jest bardziej skupiony (bardziej \"szczytowaty\") niż ogon rozkładu normalnego, czy bardziej płaski.\n",
        "\n",
        "Kluczowe punkty dotyczące kurtozy to:\n",
        "\n",
        "1. **Obliczanie kurtozy**:\n",
        "   \n",
        "   Kurtoza jest obliczana jako czwarty moment centralny standardowego znormalizowanego rozkładu danych. Wartość kurtozy dla rozkładu normalnego wynosi 3. Wartości kurtozy większe niż 3 oznaczają bardziej \"szczytowate\" rozkłady, podczas gdy wartości kurtozy mniejsze niż 3 oznaczają bardziej \"płaskie\" rozkłady.\n",
        "\n",
        "2. **Interpretacja**:\n",
        "   - Kurtoza większa niż 3 oznacza, że rozkład jest bardziej \"szczytowaty\" niż rozkład normalny, co oznacza, że dane są bardziej skupione wokół środka.\n",
        "   - Kurtoza mniejsza niż 3 oznacza, że rozkład jest bardziej \"płaski\" niż rozkład normalny, co oznacza, że dane są mniej skupione wokół środka.\n",
        "\n",
        "3. **Zastosowania**:\n",
        "   Kurtoza jest stosowana w analizie danych, w szczególności w finansach, ekonomii, naukach społecznych i innych dziedzinach, aby zrozumieć, jak dane są skupione wokół środka.\n",
        "\n",
        "4. **Ograniczenia**:\n",
        "   Kurtoza jest wrażliwa na wartości odstające (outliers) w danych, które mogą znacząco wpłynąć na wynik kurtozy.\n",
        "\n",
        "Oto wzór na obliczenie kurtozy:\n",
        "$$\n",
        "\\text{Kurtoza} = \\frac{\\sum_{i=1}^{n}(x_i - \\bar{x})^4}{n \\cdot \\sigma^4} - 3\n",
        "$$\n",
        "\n",
        "\n",
        "Wartość kurtozy jest standardowo obliczana za pomocą biblioteki statystycznej w języku Python, takiej jak `scipy.stats`. Oto przykładowy kod Pythona do obliczenia kurtozy:\n"
      ],
      "metadata": {
        "id": "JnnBgFqEq9yR"
      }
    },
    {
      "cell_type": "code",
      "source": [
        "import numpy as np\n",
        "import matplotlib.pyplot as plt\n",
        "from scipy.stats import skew, kurtosis\n",
        "\n",
        "# Generowanie losowych danych\n",
        "np.random.seed(0)\n",
        "data = np.random.normal(loc=0, scale=1, size=1000)\n",
        "\n",
        "# Obliczanie skośności\n",
        "skewness = skew(data)\n",
        "\n",
        "# Obliczanie kurtozy\n",
        "kurtosis_value = kurtosis(data)\n",
        "\n",
        "# Tworzenie histogramu\n",
        "plt.figure(figsize=(8, 6))\n",
        "plt.hist(data, bins=30, density=True, alpha=0.7, color='blue')\n",
        "\n",
        "# Dodanie linii reprezentującej średnią\n",
        "plt.axvline(np.mean(data), color='red', linestyle='dashed', linewidth=1, label=f'Średnia = {np.mean(data):.2f}')\n",
        "\n",
        "# Dodanie tytułu i etykiet osi\n",
        "plt.title(f'Histogram danych (skośność = {skewness:.2f}, kurtoza = {kurtosis_value:.2f})')\n",
        "plt.xlabel('Wartość')\n",
        "plt.ylabel('Gęstość prawdopodobieństwa')\n",
        "\n",
        "# Dodanie legendy\n",
        "plt.legend()\n",
        "\n",
        "# Wyświetlenie wykresu\n",
        "plt.show()\n",
        "\n"
      ],
      "metadata": {
        "colab": {
          "base_uri": "https://localhost:8080/",
          "height": 565
        },
        "id": "XMmPOCiwrDE5",
        "outputId": "10fb8fd9-6e72-4aad-c976-767c7247e14b"
      },
      "execution_count": 4,
      "outputs": [
        {
          "output_type": "display_data",
          "data": {
            "text/plain": [
              "<Figure size 800x600 with 1 Axes>"
            ],
            "image/png": "[encoded data removed]"
          },
          "metadata": {}
        }
      ]
    },
    {
      "cell_type": "markdown",
      "source": [
        "#4. ***MIARY POZYCYJNE***"
      ],
      "metadata": {
        "id": "oYomq8eIs0NL"
      }
    },
    {
      "cell_type": "markdown",
      "source": [
        "# ***QUARTILES-DECILES-PERCENTYILES***"
      ],
      "metadata": {
        "id": "NbJH4GzNtBao"
      }
    },
    {
      "cell_type": "markdown",
      "source": [
        "\n",
        "Kwartyle, decyle i percentyle to wartości, które dzielą zbiór danych na równe części, co pozwala na zrozumienie ich dystrybucji w różnych punktach.\n",
        "\n",
        "1. **Kwartyle**:\n",
        "   Kwartyle dzielą zbiór danych na cztery części, gdzie:\n",
        "   - Pierwszy kwartyl (Q1) oznacza wartość, poniżej której znajduje się 25% danych.\n",
        "   - Drugi kwartyl (Q2), który jest równy medianie, dzieli zbiór danych na dwie równe części.\n",
        "   - Trzeci kwartyl (Q3) oznacza wartość, poniżej której znajduje się 75% danych.\n",
        "\n",
        "2. **Decyle**:\n",
        "   Decyle dzielą zbiór danych na dziesięć równych części, gdzie:\n",
        "   - Pierwszy decyl oznacza wartość, poniżej której znajduje się 10% danych.\n",
        "   - Drugi decyl oznacza wartość, poniżej której znajduje się 20% danych, i tak dalej, aż do dziesiątego decylu.\n",
        "\n",
        "3. **Percentyle**:\n",
        "   Percentyle dzielą zbiór danych na sto równych części, gdzie:\n",
        "   - Pierwszy percentyl oznacza wartość, poniżej której znajduje się 1% danych.\n",
        "   - Drugi percentyl oznacza wartość, poniżej której znajduje się 2% danych, i tak dalej, aż do stu procentyli.\n",
        "\n",
        "### Wzory i kod Python:\n",
        "\n",
        "W Pythonie, możemy użyć funkcji biblioteki `numpy` do obliczenia kwartyli, decyli i percentyli. Oto przykład kodu:\n",
        "\n"
      ],
      "metadata": {
        "id": "ETQ1vEcHs11a"
      }
    },
    {
      "cell_type": "code",
      "source": [
        "import numpy as np\n",
        "\n",
        "# Przykładowe dane\n",
        "data = [10, 20, 30, 40, 50, 60, 70, 80, 90, 100]\n",
        "\n",
        "# Obliczanie kwartyli\n",
        "quartiles = np.percentile(data, [25, 50, 75])\n",
        "q1, median, q3 = quartiles\n",
        "\n",
        "# Obliczanie decyli\n",
        "deciles = np.percentile(data, np.arange(10, 100, 10))\n",
        "\n",
        "# Obliczanie percentyli\n",
        "percentiles = np.percentile(data, np.arange(1, 101))\n",
        "\n",
        "# Wyświetlanie wyników\n",
        "print(\"Kwartyle:\")\n",
        "print(f\"Q1 (25th percentile): {q1}\")\n",
        "print(f\"Median (50th percentile): {median}\")\n",
        "print(f\"Q3 (75th percentile): {q3}\")\n",
        "\n",
        "print(\"\\nDecyle:\")\n",
        "for i, decile in enumerate(deciles):\n",
        "    print(f\"Decile {i+1}: {decile}\")\n",
        "\n",
        "print(\"\\nPercentyle:\")\n",
        "for i, percentile in enumerate(percentiles):\n",
        "    print(f\"Percentile {i+1}: {percentile}\")\n"
      ],
      "metadata": {
        "colab": {
          "base_uri": "https://localhost:8080/"
        },
        "id": "6KTpZTPKs8Ji",
        "outputId": "2b769ea0-7855-4290-f1cd-47c73261cb20"
      },
      "execution_count": null,
      "outputs": [
        {
          "output_type": "stream",
          "name": "stdout",
          "text": [
            "Kwartyle:\n",
            "Q1 (25th percentile): 32.5\n",
            "Median (50th percentile): 55.0\n",
            "Q3 (75th percentile): 77.5\n",
            "\n",
            "Decyle:\n",
            "Decile 1: 19.0\n",
            "Decile 2: 28.0\n",
            "Decile 3: 37.0\n",
            "Decile 4: 46.0\n",
            "Decile 5: 55.0\n",
            "Decile 6: 63.99999999999999\n",
            "Decile 7: 73.0\n",
            "Decile 8: 82.0\n",
            "Decile 9: 91.0\n",
            "\n",
            "Percentyle:\n",
            "Percentile 1: 10.9\n",
            "Percentile 2: 11.8\n",
            "Percentile 3: 12.7\n",
            "Percentile 4: 13.6\n",
            "Percentile 5: 14.5\n",
            "Percentile 6: 15.4\n",
            "Percentile 7: 16.3\n",
            "Percentile 8: 17.2\n",
            "Percentile 9: 18.099999999999998\n",
            "Percentile 10: 19.0\n",
            "Percentile 11: 19.9\n",
            "Percentile 12: 20.8\n",
            "Percentile 13: 21.7\n",
            "Percentile 14: 22.6\n",
            "Percentile 15: 23.5\n",
            "Percentile 16: 24.4\n",
            "Percentile 17: 25.3\n",
            "Percentile 18: 26.2\n",
            "Percentile 19: 27.1\n",
            "Percentile 20: 28.0\n",
            "Percentile 21: 28.9\n",
            "Percentile 22: 29.8\n",
            "Percentile 23: 30.700000000000003\n",
            "Percentile 24: 31.6\n",
            "Percentile 25: 32.5\n",
            "Percentile 26: 33.4\n",
            "Percentile 27: 34.300000000000004\n",
            "Percentile 28: 35.2\n",
            "Percentile 29: 36.1\n",
            "Percentile 30: 37.0\n",
            "Percentile 31: 37.9\n",
            "Percentile 32: 38.8\n",
            "Percentile 33: 39.7\n",
            "Percentile 34: 40.6\n",
            "Percentile 35: 41.5\n",
            "Percentile 36: 42.4\n",
            "Percentile 37: 43.3\n",
            "Percentile 38: 44.2\n",
            "Percentile 39: 45.1\n",
            "Percentile 40: 46.0\n",
            "Percentile 41: 46.9\n",
            "Percentile 42: 47.8\n",
            "Percentile 43: 48.7\n",
            "Percentile 44: 49.6\n",
            "Percentile 45: 50.5\n",
            "Percentile 46: 51.400000000000006\n",
            "Percentile 47: 52.3\n",
            "Percentile 48: 53.2\n",
            "Percentile 49: 54.1\n",
            "Percentile 50: 55.0\n",
            "Percentile 51: 55.9\n",
            "Percentile 52: 56.8\n",
            "Percentile 53: 57.7\n",
            "Percentile 54: 58.6\n",
            "Percentile 55: 59.5\n",
            "Percentile 56: 60.400000000000006\n",
            "Percentile 57: 61.3\n",
            "Percentile 58: 62.199999999999996\n",
            "Percentile 59: 63.099999999999994\n",
            "Percentile 60: 63.99999999999999\n",
            "Percentile 61: 64.9\n",
            "Percentile 62: 65.8\n",
            "Percentile 63: 66.7\n",
            "Percentile 64: 67.6\n",
            "Percentile 65: 68.5\n",
            "Percentile 66: 69.4\n",
            "Percentile 67: 70.3\n",
            "Percentile 68: 71.2\n",
            "Percentile 69: 72.1\n",
            "Percentile 70: 73.0\n",
            "Percentile 71: 73.89999999999999\n",
            "Percentile 72: 74.8\n",
            "Percentile 73: 75.7\n",
            "Percentile 74: 76.6\n",
            "Percentile 75: 77.5\n",
            "Percentile 76: 78.4\n",
            "Percentile 77: 79.3\n",
            "Percentile 78: 80.2\n",
            "Percentile 79: 81.10000000000001\n",
            "Percentile 80: 82.0\n",
            "Percentile 81: 82.9\n",
            "Percentile 82: 83.8\n",
            "Percentile 83: 84.7\n",
            "Percentile 84: 85.6\n",
            "Percentile 85: 86.5\n",
            "Percentile 86: 87.4\n",
            "Percentile 87: 88.3\n",
            "Percentile 88: 89.2\n",
            "Percentile 89: 90.1\n",
            "Percentile 90: 91.0\n",
            "Percentile 91: 91.89999999999999\n",
            "Percentile 92: 92.80000000000001\n",
            "Percentile 93: 93.70000000000002\n",
            "Percentile 94: 94.6\n",
            "Percentile 95: 95.49999999999999\n",
            "Percentile 96: 96.4\n",
            "Percentile 97: 97.30000000000001\n",
            "Percentile 98: 98.2\n",
            "Percentile 99: 99.1\n",
            "Percentile 100: 100.0\n"
          ]
        }
      ]
    },
    {
      "cell_type": "markdown",
      "source": [
        "#5. ***MIARY ZALEŻNOŚCI***"
      ],
      "metadata": {
        "id": "fLBy3qzgzkpR"
      }
    },
    {
      "cell_type": "markdown",
      "source": [
        "# ***KORELACJA***"
      ],
      "metadata": {
        "id": "SFXiTkdtzttO"
      }
    },
    {
      "cell_type": "markdown",
      "source": [
        "Korelacja jest miarą statystyczną, która opisuje siłę i kierunek związku pomiędzy dwiema zmiennymi. Jest to ważne pojęcie w analizie danych i statystyce. Oto kilka kluczowych punktów dotyczących korelacji:\n",
        "\n",
        "1. **Definicja korelacji**:\n",
        "\n",
        "    Korelacja opisuje, jak bardzo dwie zmienne są ze sobą związane. Może przyjmować wartości od -1 do +1, gdzie:\n",
        "    - Korelacja bliska +1 oznacza silną dodatnią zależność.\n",
        "    - Korelacja bliska -1 oznacza silną ujemną zależność.\n",
        "    - Korelacja bliska 0 oznacza brak liniowego związku między zmiennymi.\n",
        "\n",
        "2. **Obliczanie współczynnika korelacji**:\n",
        "\n",
        "    Współczynnik korelacji Pearsona (r) jest najczęściej stosowaną miarą korelacji. Współczynnik korelacji Pearsona (r) jest obliczany zgodnie z poniższym wzorem:\n",
        "\n",
        "$$ r = \\frac{\\sum_{i=1}^{n} (x_i - \\bar{x})(y_i - \\bar{y})}{\\sqrt{\\sum_{i=1}^{n} (x_i - \\bar{x})^2 \\sum_{i=1}^{n} (y_i - \\bar{y})^2}} $$\n",
        "\n",
        "\n",
        "\n",
        "3. **Interpretacja współczynnika korelacji**:\n",
        "\n",
        "    Współczynnik korelacji mówi nam o sile i kierunku związku między zmiennymi. Jest używany do określenia, czy zmienne zmieniają się razem i jak bardzo:\n",
        "    - \\( r > 0 \\): Dodatnia korelacja - zmienne rosną razem.\n",
        "    - \\( r < 0 \\): Ujemna korelacja - zmienne zmieniają się w przeciwnych kierunkach.\n",
        "    - \\( r = 0 \\): Brak liniowej zależności między zmiennymi.\n",
        "\n",
        "4. **Czułość na wartości odstające**:\n",
        "\n",
        "    Podobnie jak średnia arytmetyczna, korelacja może być wrażliwa na wartości odstające, które mogą znacząco wpłynąć na jej wartość.\n",
        "\n",
        "5. **Zastosowania korelacji**:\n",
        "\n",
        "    - Analiza danych: Aby zrozumieć, jak dwie zmienne są ze sobą powiązane.\n",
        "    - Badania naukowe: Do badania związków między różnymi zjawiskami.\n",
        "    - Biznes i ekonomia: Do analizy relacji między cenami, sprzedażą, dochodami itp.\n",
        "    - Medycyna i psychologia: Do badań nad związkami między cechami lub zachowaniami.\n",
        "\n",
        "6. **Rodzaje korelacji**:\n",
        "\n",
        "    - Korelacja liniowa Pearsona: Miara liniowej zależności między dwiema zmiennymi.\n",
        "    - Korelacja rangowa Spearmana: Miara monotonicznej zależności między dwiema zmiennymi, nie wymaga założenia normalności danych.\n",
        "    - Korelacja Kendalla (tau): Miara korelacji oparta na liczbie zgodnych i niezgodnych par obserwacji.\n",
        "\n",
        "7. **Ważne uwagi**:\n",
        "\n",
        "    - Korelacja nie oznacza przyczynowości: Wysoki współczynnik korelacji nie zawsze oznacza, że jedna zmienna jest przyczyną zmienności drugiej.\n",
        "    - Interpretacja w kontekście: Wartość korelacji powinna być interpretowana w kontekście specyficznej dziedziny i danych, na których została obliczona.\n",
        "\n"
      ],
      "metadata": {
        "id": "vcXTgh_i0FaZ"
      }
    },
    {
      "cell_type": "code",
      "source": [
        "import numpy as np\n",
        "\n",
        "# Przykładowe dane\n",
        "X = np.array([1, 2, 3, 4, 5])\n",
        "Y = np.array([2, 3, 4, 5, 6])\n",
        "\n",
        "# Obliczanie średnich arytmetycznych\n",
        "mean_X = np.mean(X)\n",
        "mean_Y = np.mean(Y)\n",
        "\n",
        "# Obliczanie współczynnika korelacji Pearsona\n",
        "numerator = np.sum((X - mean_X) * (Y - mean_Y))\n",
        "denominator = np.sqrt(np.sum((X - mean_X)**2) * np.sum((Y - mean_Y)**2))\n",
        "r = numerator / denominator\n",
        "\n",
        "print(f\"Współczynnik korelacji Pearsona (r): {r}\")\n"
      ],
      "metadata": {
        "id": "4GlqKDlV3BPX",
        "outputId": "6fbd6e7b-e461-4fa7-9604-e4d18133ebdf",
        "colab": {
          "base_uri": "https://localhost:8080/"
        }
      },
      "execution_count": null,
      "outputs": [
        {
          "output_type": "stream",
          "name": "stdout",
          "text": [
            "Współczynnik korelacji Pearsona (r): 1.0\n"
          ]
        }
      ]
    },
    {
      "cell_type": "markdown",
      "source": [
        "# ***REGRESJA***"
      ],
      "metadata": {
        "id": "Oq9xvKIu2kEA"
      }
    },
    {
      "cell_type": "markdown",
      "source": [
        "\n",
        "Regresja liniowa jest techniką statystyczną używaną do modelowania zależności liniowej między jedną zmienną zależną ($Y$) a jedną lub więcej zmiennymi niezależnymi ($X$). Oto kluczowe informacje dotyczące regresji liniowej:\n",
        "\n",
        "1. **Model regresji liniowej**:\n",
        "\n",
        "Model regresji liniowej dla jednej zmiennej niezależnej ($X$) i jednej zmiennej zależnej ($Y$) można zapisać jako:\n",
        "\n",
        "$$ Y = \\beta_0 + \\beta_1 X + \\epsilon $$\n",
        "\n",
        "Gdzie:\n",
        "\n",
        "$\\beta_0$ to przecięcie (intercept),\n",
        "$\\beta_1$ to współczynnik nachylenia (slope),\n",
        "$\\epsilon$ to błąd losowy.\n",
        "Obliczanie współczynników regresji:\n",
        "\n",
        "Współczynniki $\\beta_0$ i $\\beta_1$ mogą być oszacowane za pomocą metod takich jak metoda najmniejszych kwadratów (OLS), która minimalizuje sumę kwadratów różnic między rzeczywistymi a przewidywanymi wartościami $Y$.\n",
        "\n",
        "2. **Interpretacja współczynników**:\n",
        "\n",
        "$\\beta_0$: Interpretuje się jako przecięcie osi $Y$, czyli wartość $Y$, gdy $X = 0$.\n",
        "$\\beta_1$: Interpretuje się jako zmianę w wartości $Y$ związanej ze zmianą o jednostkę $X$. Określa nachylenie linii regresji.\n",
        "Dopasowanie modelu:\n",
        "\n",
        "Dopasowanie modelu regresji liniowej ocenia się za pomocą współczynnika determinacji $R^2$, który mierzy, jak dobrze model pasuje do danych.\n",
        "\n",
        "3. **Przykład zastosowania**:\n",
        "\n",
        "W ekonomii, do analizy zależności między ceną a popytem.\n",
        "W naukach społecznych, do badania wpływu jednej zmiennej na drugą.\n",
        "W marketingu, do prognozowania sprzedaży na podstawie budżetu reklamowego.\n",
        "W naukach przyrodniczych, do analizy efektów zmiany jednego parametru na inny.\n",
        "Ograniczenia:\n",
        "\n",
        "Regresja liniowa zakłada liniową zależność między zmiennymi, co może być niewystarczające do opisania złożonych relacji w danych."
      ],
      "metadata": {
        "id": "L_BfosY22l4P"
      }
    },
    {
      "cell_type": "code",
      "source": [
        "import numpy as np\n",
        "from sklearn.linear_model import LinearRegression\n",
        "\n",
        "# Przykładowe dane\n",
        "X = np.array([1, 2, 3, 4, 5]).reshape(-1, 1)  # Zmienna niezależna X\n",
        "Y = np.array([2, 3, 4, 5, 6])                # Zmienna zależna Y\n",
        "\n",
        "# Tworzenie modelu regresji liniowej\n",
        "model = LinearRegression()\n",
        "\n",
        "# Dopasowanie modelu do danych\n",
        "model.fit(X, Y)\n",
        "\n",
        "# Wydrukowanie współczynników modelu\n",
        "print(f'Przecięcie (intercept): {model.intercept_}')\n",
        "print(f'Współczynnik nachylenia (slope): {model.coef_[0]}')\n",
        "\n",
        "# Przewidywanie wartości Y dla nowych wartości X\n",
        "new_X = np.array([6, 7, 8]).reshape(-1, 1)\n",
        "predicted_Y = model.predict(new_X)\n",
        "print(f'Przewidywane wartości Y dla nowych wartości X: {predicted_Y}')\n"
      ],
      "metadata": {
        "id": "D9OqHQOS3WmP",
        "outputId": "db30e095-24ac-41eb-d369-c59e6c20b9a9",
        "colab": {
          "base_uri": "https://localhost:8080/"
        }
      },
      "execution_count": null,
      "outputs": [
        {
          "output_type": "stream",
          "name": "stdout",
          "text": [
            "Przecięcie (intercept): 1.0\n",
            "Współczynnik nachylenia (slope): 1.0\n",
            "Przewidywane wartości Y dla nowych wartości X: [7. 8. 9.]\n"
          ]
        }
      ]
    },
    {
      "cell_type": "markdown",
      "source": [
        "# ***WSPÓŁCZYNNIK DETERMINACJI***"
      ],
      "metadata": {
        "id": "9JObiEAGELRJ"
      }
    },
    {
      "cell_type": "markdown",
      "source": [
        "\n",
        "Współczynnik determinacji, oznaczany jako $R^2$, jest miarą statystyczną używaną w analizie regresji do oceny dopasowania modelu regresji do danych. Oto kluczowe informacje dotyczące współczynnika determinacji:\n",
        "\n",
        "### Definicja\n",
        "\n",
        "Współczynnik determinacji $R^2$ określa, jak dobrze model regresji liniowej pasuje do rzeczywistych danych. Może przyjmować wartości od 0 do 1, gdzie:\n",
        "\n",
        "- $R^2 = 1$ oznacza idealne dopasowanie modelu do danych, czyli wszystkie zmienności w zmiennej zależnej ($Y$) są wyjaśniane przez zmienne niezależne ($X$).\n",
        "- $R^2 = 0$ oznacza, że model nie wyjaśnia zmienności zmiennej zależnej lepiej niż poziom losowy.\n",
        "\n",
        "### Obliczanie współczynnika determinacji\n",
        "\n",
        "Współczynnik determinacji $R^2$ jest obliczany na podstawie sumy kwadratów różnic między rzeczywistymi wartościami $Y$ a wartościami przewidywanymi przez model, oraz sumy kwadratów różnic między rzeczywistymi wartościami $Y$ a średnią wartością $Y$. Formuła $R^2$ jest zwykle przedstawiana jako:\n",
        "\n",
        "$$ R^2 = 1 - \\frac{\\sum_{i=1}^{n} (y_i - \\hat{y}_i)^2}{\\sum_{i=1}^{n} (y_i - \\bar{y})^2} $$\n",
        "\n",
        "Gdzie:\n",
        "\n",
        "- $y_i$ to rzeczywista wartość zmiennej zależnej dla i-tej obserwacji,\n",
        "- $\\hat{y}_i$ to wartość przewidziana przez model dla i-tej obserwacji,\n",
        "- $\\bar{y}$ to średnia wartość zmiennej zależnej,\n",
        "- $n$ to liczba obserwacji.\n",
        "\n",
        "### Interpretacja\n",
        "\n",
        "Interpretacja $R^2$ polega na tym, że im bliżej $R^2$ jest do 1, tym lepiej model pasuje do danych i tym więcej zmienności w zmiennej zależnej jest wyjaśniane przez zmienne niezależne. Jednak wysoki $R^2$ nie oznacza zawsze, że model jest dobry – należy także uwzględnić kontekst specyficzny dla danego problemu.\n",
        "\n",
        "### Zastosowania\n",
        "\n",
        "Współczynnik determinacji jest szeroko stosowany w analizie danych, badaniach naukowych, biznesie i innych dziedzinach, gdzie istotne jest ocenianie jakości dopasowania modelu regresji do danych empirycznych.\n"
      ],
      "metadata": {
        "id": "eO1pckHEEI6l"
      }
    },
    {
      "cell_type": "markdown",
      "source": [
        "#6. ***TRANSFORMACJE DANYCH: LOGARYTMICZNE PRZEKSZTAŁCENIE, STANDARYZACJA,NORMALIZACJA***"
      ],
      "metadata": {
        "id": "x3SLZTFl4C4E"
      }
    },
    {
      "cell_type": "markdown",
      "source": [
        "# ***LOGARYTMICZNE PRZEKSZTAŁCZENIE***"
      ],
      "metadata": {
        "id": "KZVk44oa4LFI"
      }
    },
    {
      "cell_type": "markdown",
      "source": [
        "Logarytmiczne przekształcenie jest używane do zmniejszenia skali danych, szczególnie gdy dane mają rozkład skośny lub heteroskedastyczność. Jest przydatne, gdy chcemy zmniejszyć wpływ wartości odstających na analizę danych.\n",
        "\n",
        "\n",
        "Logarytmiczne przekształcenie zmienia wartości danych zgodnie z funkcją logarytmu. Dla danych dodatnich, logarytmowanie zmniejsza różnice między większymi wartościami, co może pomóc w równomiernym rozłożeniu danych."
      ],
      "metadata": {
        "id": "pM4JPQ5B4ViC"
      }
    },
    {
      "cell_type": "code",
      "source": [
        "import numpy as np\n",
        "\n",
        "# Przykładowe dane\n",
        "data = np.array([1, 10, 100, 1000])\n",
        "\n",
        "# Logarytmiczne przekształcenie\n",
        "transformed_data = np.log(data)\n",
        "\n",
        "print(\"Oryginalne dane:\", data)\n",
        "print(\"Dane po logarytmicznym przekształceniu:\", transformed_data)\n"
      ],
      "metadata": {
        "id": "AUkBTgwE4X3N",
        "outputId": "bdfab217-296a-4f83-f6d5-31fbf59a9e91",
        "colab": {
          "base_uri": "https://localhost:8080/"
        }
      },
      "execution_count": null,
      "outputs": [
        {
          "output_type": "stream",
          "name": "stdout",
          "text": [
            "Oryginalne dane: [   1   10  100 1000]\n",
            "Dane po logarytmicznym przekształceniu: [0.         2.30258509 4.60517019 6.90775528]\n"
          ]
        }
      ]
    },
    {
      "cell_type": "markdown",
      "source": [
        "# ***STANDARYZACJA***"
      ],
      "metadata": {
        "id": "WDckI0sy4eaL"
      }
    },
    {
      "cell_type": "markdown",
      "source": [
        "Standaryzacja jest procesem skalowania danych w taki sposób, aby miały średnią arytmetyczną równą 0 i odchylenie standardowe równa 1. Jest używana, gdy chcemy, aby wszystkie zmienne miały porównywalne skale.\n",
        "\n",
        "\n",
        "Standaryzacja przekształca dane poprzez odjęcie średniej arytmetycznej i podzielenie przez odchylenie standardowe. Dzięki temu wszystkie zmienne są skalowane do wspólnej jednostki miary."
      ],
      "metadata": {
        "id": "rPceTVXH4hHN"
      }
    },
    {
      "cell_type": "code",
      "source": [
        "from sklearn.preprocessing import StandardScaler\n",
        "\n",
        "# Przykładowe dane\n",
        "data = np.array([[1, 2], [3, 4], [5, 6]])\n",
        "\n",
        "# Standaryzacja\n",
        "scaler = StandardScaler()\n",
        "transformed_data = scaler.fit_transform(data)\n",
        "\n",
        "print(\"Oryginalne dane:\")\n",
        "print(data)\n",
        "print(\"Dane po standaryzacji:\")\n",
        "print(transformed_data)\n"
      ],
      "metadata": {
        "id": "4feDbwj64ipG",
        "outputId": "68b1330c-319e-4942-fe47-300b371d096b",
        "colab": {
          "base_uri": "https://localhost:8080/"
        }
      },
      "execution_count": null,
      "outputs": [
        {
          "output_type": "stream",
          "name": "stdout",
          "text": [
            "Oryginalne dane:\n",
            "[[1 2]\n",
            " [3 4]\n",
            " [5 6]]\n",
            "Dane po standaryzacji:\n",
            "[[-1.22474487 -1.22474487]\n",
            " [ 0.          0.        ]\n",
            " [ 1.22474487  1.22474487]]\n"
          ]
        }
      ]
    },
    {
      "cell_type": "markdown",
      "source": [
        "# ***NORMALIZACJA***"
      ],
      "metadata": {
        "id": "3tnnHS3H4lv3"
      }
    },
    {
      "cell_type": "markdown",
      "source": [
        "\n",
        "\n",
        "Normalizacja przekształca dane w taki sposób, że każda obserwacja ma długość (lub normę) równą 1. Jest szczególnie przydatna w przypadku analizy odległościowych lub metod opartych na względnych proporcjach wartości w obrębie każdej obserwacji."
      ],
      "metadata": {
        "id": "Fm4zwR9k4pQI"
      }
    },
    {
      "cell_type": "code",
      "source": [
        "from sklearn.preprocessing import Normalizer\n",
        "\n",
        "# Przykładowe dane\n",
        "data = np.array([[1, 2], [3, 4], [5, 6]])\n",
        "\n",
        "# Normalizacja\n",
        "scaler = Normalizer()\n",
        "transformed_data = scaler.fit_transform(data)\n",
        "\n",
        "print(\"Oryginalne dane:\")\n",
        "print(data)\n",
        "print(\"Dane po normalizacji:\")\n",
        "print(transformed_data)\n"
      ],
      "metadata": {
        "id": "Eb-vs3Ga4rd_",
        "outputId": "251a71e2-a7f6-488a-d5b5-74a77f7d51c6",
        "colab": {
          "base_uri": "https://localhost:8080/"
        }
      },
      "execution_count": null,
      "outputs": [
        {
          "output_type": "stream",
          "name": "stdout",
          "text": [
            "Oryginalne dane:\n",
            "[[1 2]\n",
            " [3 4]\n",
            " [5 6]]\n",
            "Dane po normalizacji:\n",
            "[[0.4472136  0.89442719]\n",
            " [0.6        0.8       ]\n",
            " [0.6401844  0.76822128]]\n"
          ]
        }
      ]
    }
  ]
}